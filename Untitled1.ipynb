{
 "cells": [
  {
   "cell_type": "code",
   "execution_count": 1,
   "id": "193758cd-702d-4db4-8c11-696675486d07",
   "metadata": {},
   "outputs": [],
   "source": [
    "%matplotlib inline\n",
    "%config IPCompleter.use_jedi=False\n",
    "import numpy as np\n",
    "from glob import glob\n",
    "import os, tifffile as tf,  z5py\n",
    "from threading import Thread\n",
    "from time import time"
   ]
  },
  {
   "cell_type": "code",
   "execution_count": 18,
   "id": "0a0788ab-d67d-43d1-b3b8-d186a1e63d78",
   "metadata": {},
   "outputs": [],
   "source": [
    "factor = 16\n",
    "chunks = (1, 1024, 1024)\n",
    "blocksize  = chunks * np.array([1, factor, factor])\n",
    "\n",
    "def write_n5(z, fn):\n",
    "    print('Start writing', z, fn, flush=True)\n",
    "    start = time()\n",
    "    I = tf.imread(fn)\n",
    "    shape = np.array(tf.TiffFile(fn).series[0].shape)\n",
    "    y0, x0 = (z5_shape[1:] - shape[1:])//2 # center\n",
    "    g['c0/s0'][z, y0:y0+shape[1], x0:x0+shape[2]] = I[0]\n",
    "    g['c1/s0'][z, y0:y0+shape[1], x0:x0+shape[2]] = I[1]\n",
    "    print('Finished writing', z, 'in', round(time() - start, 2), 'seconds', flush=True)"
   ]
  },
  {
   "cell_type": "code",
   "execution_count": 11,
   "id": "25cbcc5b-5572-4caf-8435-94f796488a7b",
   "metadata": {},
   "outputs": [
    {
     "name": "stdout",
     "output_type": "stream",
     "text": [
      "/groups/spruston/home/moharb/Unbiased\n"
     ]
    }
   ],
   "source": [
    "!pwd"
   ]
  },
  {
   "cell_type": "code",
   "execution_count": 25,
   "id": "bd3bcb21-06b4-4f43-9876-8e42c741df25",
   "metadata": {},
   "outputs": [
    {
     "data": {
      "text/plain": [
       "array([   19, 16384, 16384], dtype=uint32)"
      ]
     },
     "execution_count": 25,
     "metadata": {},
     "output_type": "execute_result"
    }
   ],
   "source": [
    "z5_shape"
   ]
  },
  {
   "cell_type": "code",
   "execution_count": 26,
   "id": "b9015377-7101-49c3-a638-e48cea5b8403",
   "metadata": {},
   "outputs": [
    {
     "name": "stdout",
     "output_type": "stream",
     "text": [
      "here\n",
      "Start writing 0 /groups/spruston/home/moharb/PSD95_EE/Male1_01_Region_00_s2.tif\n",
      "Start writing 1 /groups/spruston/home/moharb/PSD95_EE/Male1_01_Region_01_s2.tif\n",
      "Start writing 2 /groups/spruston/home/moharb/PSD95_EE/Male1_01_Region_02_s2.tif\n",
      "Start writing 3 /groups/spruston/home/moharb/PSD95_EE/Male1_01_Region_03_s2.tif\n",
      "Start writing 4 /groups/spruston/home/moharb/PSD95_EE/Male1_01_Region_04_s2.tif\n",
      "Start writing 5 /groups/spruston/home/moharb/PSD95_EE/Male1_01_Region_05_s2.tif\n",
      "Start writing 6 /groups/spruston/home/moharb/PSD95_EE/Male1_02_Region_00_s2.tif\n",
      "Start writing 7 /groups/spruston/home/moharb/PSD95_EE/Male1_02_Region_01_s2.tif\n",
      "Start writing 8 /groups/spruston/home/moharb/PSD95_EE/Male1_02_Region_02_s2.tif\n",
      "Start writing 9 /groups/spruston/home/moharb/PSD95_EE/Male1_02_Region_03_s2.tif\n",
      "Start writing 10 /groups/spruston/home/moharb/PSD95_EE/Male1_02_Region_04_s2.tif\n",
      "Start writing 11 /groups/spruston/home/moharb/PSD95_EE/Male1_03_Region_00_s2.tif\n",
      "Start writing 12 /groups/spruston/home/moharb/PSD95_EE/Male1_03_Region_01_s2.tif\n",
      "Start writing 13 /groups/spruston/home/moharb/PSD95_EE/Male1_03_Region_02_s2.tif\n",
      "Start writing 14 /groups/spruston/home/moharb/PSD95_EE/Male1_03_Region_03_s2.tif\n",
      "Start writing 15 /groups/spruston/home/moharb/PSD95_EE/Male1_04_Region_00_s2.tif\n",
      "Start writing 16 /groups/spruston/home/moharb/PSD95_EE/Male1_04_Region_01_s2.tif\n",
      "Start writing 17 /groups/spruston/home/moharb/PSD95_EE/Male1_04_Region_02_s2.tif\n",
      "Start writing 18 /groups/spruston/home/moharb/PSD95_EE/Male1_04_Region_03_s2.tif\n",
      "Finished writing 18 in 0.37 seconds\n",
      "Finished writing 0 in 0.42 seconds\n",
      "Finished writing 1 in 0.44 seconds\n",
      "Finished writing 2 in 0.49 seconds\n",
      "Finished writing 16 in 0.49 seconds\n",
      "Finished writing 3 in 0.54 seconds\n",
      "Finished writing 13 in 0.56 seconds\n",
      "Finished writing 17 in 0.57 seconds\n",
      "Finished writing 4 in 0.59 seconds\n",
      "Finished writing 15 in 0.61 seconds\n",
      "Finished writing 14 in 0.64 seconds\n",
      "Finished writing 5 in 0.67 seconds\n",
      "Finished writing 8 in 0.68 seconds\n",
      "Finished writing 7 in 0.69 seconds\n",
      "Finished writing 6 in 0.7 seconds\n",
      "Finished writing 11 in 0.72 seconds\n",
      "Finished writing 12 in 0.85 seconds\n",
      "Finished writing 9 in 0.86 seconds\n",
      "Finished writing 10 in 0.91 seconds\n"
     ]
    }
   ],
   "source": [
    "fns = sorted(glob('/groups/spruston/home/moharb/PSD95_EE/Male1*.tif')) # finds all TIFFs in folder; assumes this order\n",
    "shape = np.array([list(tf.TiffFile(fn).series[0].shape) for fn in fns])[:,1:].max(0) # finds largest size\n",
    "new_shape = [len(fns)] + shape.tolist()\n",
    "z5_shape = (np.ceil(new_shape/blocksize)*blocksize).astype(np.uint32)\n",
    "g = z5py.File('/groups/spruston/home/moharb/PSD95_EE/Male1_n5', use_zarr_format=False)\n",
    "g.attrs['pixelResolution'] = {'unit': 'um', 'dimensions': [100,1,1]}\n",
    "print('here')\n",
    "g.create_dataset('c0/s0', shape=z5_shape, chunks=chunks, dtype=np.uint16) # 2 channel images\n",
    "g.create_dataset('c1/s0', shape=z5_shape, chunks=chunks, dtype=np.uint16)\n",
    "write_threads = [Thread(target=write_n5, args=(i, fn)) for i, fn in enumerate(fns)] # parallelized becuase compression is CPU-bound\n",
    "for t in write_threads: t.start()\n",
    "for t in write_threads: t.join()"
   ]
  },
  {
   "cell_type": "code",
   "execution_count": null,
   "id": "fb305d93-0220-491b-91c5-6e29c969f8ae",
   "metadata": {},
   "outputs": [],
   "source": []
  }
 ],
 "metadata": {
  "kernelspec": {
   "display_name": "“expand-py39”",
   "language": "python",
   "name": "expand"
  },
  "language_info": {
   "codemirror_mode": {
    "name": "ipython",
    "version": 3
   },
   "file_extension": ".py",
   "mimetype": "text/x-python",
   "name": "python",
   "nbconvert_exporter": "python",
   "pygments_lexer": "ipython3",
   "version": "3.9.9"
  }
 },
 "nbformat": 4,
 "nbformat_minor": 5
}
